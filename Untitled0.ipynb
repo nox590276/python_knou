{
  "nbformat": 4,
  "nbformat_minor": 0,
  "metadata": {
    "colab": {
      "provenance": [],
      "authorship_tag": "ABX9TyOCxmhEUIcXHg2cR7+6IZQB",
      "include_colab_link": true
    },
    "kernelspec": {
      "name": "python3",
      "display_name": "Python 3"
    },
    "language_info": {
      "name": "python"
    }
  },
  "cells": [
    {
      "cell_type": "markdown",
      "metadata": {
        "id": "view-in-github",
        "colab_type": "text"
      },
      "source": [
        "<a href=\"https://colab.research.google.com/github/nox590276/python_knou/blob/main/Untitled0.ipynb\" target=\"_parent\"><img src=\"https://colab.research.google.com/assets/colab-badge.svg\" alt=\"Open In Colab\"/></a>"
      ]
    },
    {
      "cell_type": "code",
      "execution_count": 2,
      "metadata": {
        "colab": {
          "base_uri": "https://localhost:8080/"
        },
        "id": "TUH_xaohQ8Bu",
        "outputId": "78c37a16-22e5-4062-a0b2-8e452f5da86d"
      },
      "outputs": [
        {
          "output_type": "stream",
          "name": "stdout",
          "text": [
            "Welcome to Python world!\n",
            "Welcom to Computer Science\n",
            "Programming is fun!\n"
          ]
        }
      ],
      "source": [
        "print(\"Welcome to Python world!\")\n",
        "print(\"Welcom to Computer Science\")\n",
        "print(\"Programming is fun!\")"
      ]
    },
    {
      "cell_type": "code",
      "source": [
        "quize=int(input(\"0과 1000사이의 정수를 입력하세요: \"))\n",
        "\n",
        "if quize>=0 and quize <= 1000:\n",
        "  if quize/100>0 and quize !=1000:\n",
        "    a=quize//100\n",
        "    b=quize%100\n",
        "    c=b//10\n",
        "    d=b%10\n",
        "    sum_input=a+c+d\n",
        "  elif quize/100<0:\n",
        "    k=g//10\n",
        "    p=q%10\n",
        "    sum_input=k+p\n",
        "  elif quize == 1000:\n",
        "    sum_input = 1\n",
        "\n",
        "\n",
        "if quize>=0 and quize<=1000:\n",
        "  print(\"자릿수의 총합은\",sum_input,\"입니다.\")\n",
        "else:\n",
        "  print(\"입력하신 숫자의 범위가 맞지 않습니다.\")"
      ],
      "metadata": {
        "colab": {
          "base_uri": "https://localhost:8080/"
        },
        "id": "WiR-U2bCRkBs",
        "outputId": "17498904-4f9e-4956-f7be-966769eb18d2"
      },
      "execution_count": 21,
      "outputs": [
        {
          "output_type": "stream",
          "name": "stdout",
          "text": [
            "0과 1000사이의 정수를 입력하세요: 3\n",
            "자릿수의 총합은 3 입니다.\n"
          ]
        }
      ]
    },
    {
      "cell_type": "code",
      "source": [
        "score=int(input(\"점수를 입력하세요: \"))\n",
        "if score>=0 and score<=100:\n",
        "  if score<=100 and score>=90:\n",
        "    yourscore=\"A\"\n",
        "  elif score<90 and score>=80:\n",
        "    yourscore=\"B\"\n",
        "  elif score<80 and score>=70:\n",
        "    yourscore=\"C\"\n",
        "  elif score<70 and score>=60:\n",
        "    yourscore=\"D\"\n",
        "  else:\n",
        "    yourscore=\"F\"\n",
        "  print(\"당신의 점수는\",yourscore,\"입니다.\")\n",
        "else:\n",
        "  print(\"잘못된 점수입니다.\")"
      ],
      "metadata": {
        "colab": {
          "base_uri": "https://localhost:8080/"
        },
        "id": "K0h8hRbFg8LV",
        "outputId": "cfbae1cb-019c-4f58-f6cd-61c156a0b6cb"
      },
      "execution_count": 27,
      "outputs": [
        {
          "output_type": "stream",
          "name": "stdout",
          "text": [
            "점수를 입력하세요: -292\n",
            "잘못된 점수입니다.\n"
          ]
        }
      ]
    }
  ]
}