{
  "nbformat": 4,
  "nbformat_minor": 0,
  "metadata": {
    "colab": {
      "provenance": [],
      "authorship_tag": "ABX9TyNLPXsKi95BYCUcXSzwKik9",
      "include_colab_link": true
    },
    "kernelspec": {
      "name": "python3",
      "display_name": "Python 3"
    },
    "language_info": {
      "name": "python"
    }
  },
  "cells": [
    {
      "cell_type": "markdown",
      "metadata": {
        "id": "view-in-github",
        "colab_type": "text"
      },
      "source": [
        "<a href=\"https://colab.research.google.com/github/nox590276/python_knou/blob/main/ch5.ipynb\" target=\"_parent\"><img src=\"https://colab.research.google.com/assets/colab-badge.svg\" alt=\"Open In Colab\"/></a>"
      ]
    },
    {
      "cell_type": "code",
      "execution_count": 2,
      "metadata": {
        "colab": {
          "base_uri": "https://localhost:8080/"
        },
        "id": "NpmT2ZmJLuxo",
        "outputId": "dc5741ab-3944-411c-ddea-ce6c416b2236"
      },
      "outputs": [
        {
          "output_type": "stream",
          "name": "stdout",
          "text": [
            "   *\n",
            ". ***\n",
            " *****\n",
            "*******\n"
          ]
        }
      ],
      "source": [
        "#삼각형 출력하기\n",
        "print(\"   *\")\n",
        "print(\"  ***\")\n",
        "print(\" *****\")\n",
        "print(\"*******\")"
      ]
    },
    {
      "cell_type": "code",
      "source": [
        "input()"
      ],
      "metadata": {
        "colab": {
          "base_uri": "https://localhost:8080/",
          "height": 54
        },
        "id": "AlgCsNSUMpqm",
        "outputId": "b06219b4-24bd-4573-e1cc-cc4faca37ed3"
      },
      "execution_count": 3,
      "outputs": [
        {
          "name": "stdout",
          "output_type": "stream",
          "text": [
            "10\n"
          ]
        },
        {
          "output_type": "execute_result",
          "data": {
            "text/plain": [
              "'10'"
            ],
            "application/vnd.google.colaboratory.intrinsic+json": {
              "type": "string"
            }
          },
          "metadata": {},
          "execution_count": 3
        }
      ]
    },
    {
      "cell_type": "code",
      "source": [
        "print(\"원뿔의 부피와 겉넓이를 구해봅시다.\")\n",
        "rad = input(\"반지름의 값을 입력하세요: \")\n",
        "rad = int(rad)\n",
        "#rad = int(input(\"반지름을 입력하세요\"))\n",
        "hig = input(\"높이의 값을 입력하세요: \")\n",
        "hig = int(hig)\n",
        "#부피출력\n",
        "print(1/3 * 3.14 * rad ** 2 * hig)\n",
        "#겉넓이 출력\n",
        "print(3.14 * rad ** 2 + 3.14 * rad * hig)"
      ],
      "metadata": {
        "colab": {
          "base_uri": "https://localhost:8080/"
        },
        "id": "BCK8JJd1MyE-",
        "outputId": "64ca9157-c405-4c4d-a4a9-6ce23abcb724"
      },
      "execution_count": 8,
      "outputs": [
        {
          "output_type": "stream",
          "name": "stdout",
          "text": [
            "원뿔의 부피와 겉넓이를 구해봅시다.\n",
            "반지름의 값을 입력하세요: 4\n",
            "높이의 값을 입력하세요: 5\n",
            "83.73333333333333\n",
            "113.04\n"
          ]
        }
      ]
    },
    {
      "cell_type": "code",
      "source": [
        "r = int(input(\"반지름을 입력하세요: \"))\n",
        "h = int(input(\"높이를 입력하세요: \"))\n",
        "p = 3.14\n",
        "#부피&겉넓이 계산\n",
        "vol = 1/3 * p * r ** 2 * h\n",
        "suf = p * r ** 2 + p * r * h\n",
        "print(vol)\n",
        "print(suf)"
      ],
      "metadata": {
        "colab": {
          "base_uri": "https://localhost:8080/"
        },
        "id": "IfwLDcImRSv6",
        "outputId": "f6f2595a-cb1e-4300-aa86-671e71ae5f12"
      },
      "execution_count": 11,
      "outputs": [
        {
          "output_type": "stream",
          "name": "stdout",
          "text": [
            "반지름을 입력하세요: 7\n",
            "높이를 입력하세요: 8\n",
            "410.2933333333333\n",
            "329.70000000000005\n"
          ]
        }
      ]
    }
  ]
}